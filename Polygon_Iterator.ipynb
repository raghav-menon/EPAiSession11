{
 "cells": [
  {
   "cell_type": "markdown",
   "metadata": {},
   "source": [
    "## Polygon Class"
   ]
  },
  {
   "cell_type": "code",
   "execution_count": 32,
   "metadata": {},
   "outputs": [],
   "source": [
    "# Polygon.py\n",
    "import math\n",
    "\n",
    "class Polygon :   \n",
    "    \"\"\"Implementation of a regular Polygon which takes num_eges and \\\n",
    "        circumradius as input. It can give num_eges, num_vertices,interior \\\n",
    "            angle,edge length,apothem,area,perimeter \\\n",
    "            \"\"\"\n",
    "    def __init__(self, num_edges : int = 3, circumradius : float = 1.0) -> None:\n",
    "        \"\"\" Function to initialize the num of edges and circumradius\"\"\"\n",
    "        \n",
    "        if num_edges < 3:\n",
    "            raise ValueError(\"Polygon must have atleast 3 edges\")\n",
    "        self.num_edges = num_edges\n",
    "        self.circumradius = circumradius\n",
    "\n",
    "    @property\n",
    "    def count_edges(self):\n",
    "        \"\"\" Function to return the number of edges\"\"\"\n",
    "        return self.num_edges\n",
    "\n",
    "    @property\n",
    "    def count_vertices(self):\n",
    "        \"\"\" Function to return the number of vertices. Number of vertices \\\n",
    "            equals number of edges in a regular polygon\"\"\"\n",
    "\n",
    "        return self.num_edges\n",
    "\n",
    "    @property\n",
    "    def circumradius(self):\n",
    "        \"\"\" Function to return Circumradius\"\"\"\n",
    "\n",
    "        return self._circumradius\n",
    "\n",
    "    @circumradius.setter\n",
    "    def circumradius(self, value):\n",
    "        \"\"\" Setter for Circumradius\"\"\"\n",
    "        if(value < 0):\n",
    "            raise ValueError(\" Radius should be greater than 0\")\n",
    "        self._circumradius = value\n",
    "\n",
    "    @property\n",
    "    def interior_angle(self):\n",
    "        \"\"\"Function to calculate the interior angle\"\"\"\n",
    "        return (self.num_edges - 2) * 180 / self.num_edges\n",
    "\n",
    "    @property\n",
    "    def side_length(self):\n",
    "        \"\"\"Function to calculate the edge length\"\"\"\n",
    "        return 2 * self.circumradius * math.sin(math.pi / self.num_edges)\n",
    "\n",
    "    @property\n",
    "    def apothem(self):\n",
    "        \"\"\"Function to calculate the apothem\"\"\"\n",
    "        return self.circumradius * math.cos(math.pi / self.num_edges)\n",
    "\n",
    "    @property\n",
    "    def area(self):\n",
    "        \"\"\"Function to calculate the area\"\"\"\n",
    "        return 1/2 * self.num_edges * self.side_length * self.apothem\n",
    "\n",
    "    @property\n",
    "    def perimeter(self):\n",
    "        \"\"\"Function to calculate the perimeter\"\"\"\n",
    "        return self.num_edges * self.side_length\n",
    "\n",
    "    def __repr__(self):\n",
    "        \"\"\"Repr Function to return the no of edges and Circumradius\"\"\"\n",
    "        return f\"Polygon(n={self.count_vertices}, R={self.circumradius})\"\n",
    "\n",
    "    def __eq__(self, other):\n",
    "        \"\"\"Equality function to compare whether 2 polygons are equal by \\\n",
    "            comparing the number of edges and circumradius\"\"\"\n",
    "        \n",
    "        if isinstance(other, self.__class__):\n",
    "            return self.num_edges == other.num_edges and self.circumradius == other.circumradius\n",
    "        else:\n",
    "            return NotImplemented\n",
    "\n",
    "    def __gt__(self, other):\n",
    "        \"\"\"Greater than function to compare whether which of the 2 polygons \\\n",
    "            is bigger by comparing the number of vertices\"\"\"\n",
    "            \n",
    "        if isinstance(other, self.__class__):\n",
    "            return self.num_edges > other.num_edges\n",
    "        else:\n",
    "            return NotImplemented"
   ]
  },
  {
   "cell_type": "markdown",
   "metadata": {},
   "source": [
    "## Polygon Sequence Class"
   ]
  },
  {
   "cell_type": "code",
   "execution_count": 138,
   "metadata": {},
   "outputs": [],
   "source": [
    "from Polygon import Polygon\n",
    "\n",
    "\n",
    "class Polygons:\n",
    "    \"\"\"Implementaion Of Custom Sequence of Polygons which takes largest \\\n",
    "        polygon num of edges and circumradius as input\"\"\"\n",
    "\n",
    "    def __init__(self, m, R):\n",
    "        \"\"\" Function initialising the number of edges and circumradius\"\"\"\n",
    "        if m < 3:\n",
    "            raise ValueError('m must be greater than 3')\n",
    "        self._m = m\n",
    "        self._R = R\n",
    "        self._polygons = [Polygon(i, R) for i in range(3, m+1)]\n",
    "\n",
    "    def __len__(self):\n",
    "        \"\"\"Function returning the length of sequence\"\"\"\n",
    "        return self._m - 2\n",
    "\n",
    "    def __repr__(self):\n",
    "        \"\"\"Repr Function to print regarding the initialized variables\"\"\"\n",
    "        return f'Polygons(m={self._m}, R={self._R})'\n",
    "\n",
    "    def __getitem__(self, s):\n",
    "        \"\"\"Function to retrieve a particular element in the sequence or a \\\n",
    "            list of elements\"\"\"\n",
    "        return self._polygons[s]\n",
    "\n",
    "    def __iter__(self):\n",
    "        \"\"\"Iterator Function--> This function converts this class to an \\\n",
    "            Iterator returning an Iterator object\"\"\"\n",
    "        print(\"Inside Polygon sequence iter\")\n",
    "        return self.PolygonIter(self)\n",
    "\n",
    "    @property\n",
    "    def max_efficiency_polygon(self):\n",
    "        \"\"\"Function to calculate the maximum efficiency of the Polygon\"\"\"\n",
    "        sorted_polygons = sorted(self._polygons,\n",
    "                                 key=lambda p: p.area/p.perimeter,\n",
    "                                 reverse=True)\n",
    "        return sorted_polygons[0]\n",
    "\n",
    "    class PolygonIter:\n",
    "        \"\"\"This is an Iterator class which converts the main class into an \\\n",
    "            Iterator\"\"\"\n",
    "\n",
    "        def __init__(self, polyobj):\n",
    "            \"\"\"Function initializing the polygon sequence object and \\\n",
    "                index. Index is used to return the next element in the polygon\\\n",
    "                    sequence when used as a iterator\"\"\"\n",
    "            self._polyobj = polyobj\n",
    "            self._index = 0\n",
    "\n",
    "        def __iter__(self):\n",
    "            \"\"\"Iterator function which makes it an iterator object\"\"\"\n",
    "            print(\"Inside Polygon Iterator iter\")\n",
    "            return self\n",
    "\n",
    "        def __next__(self):\n",
    "            \"\"\"Next function to return the next element from an polygon \\\n",
    "                sequence iterator object\"\"\"\n",
    "            print(\"Inside Polygon Iterator next\")\n",
    "            if self._index >= len(self._polyobj):\n",
    "                raise StopIteration\n",
    "            else:\n",
    "                item = self._polyobj._polygons[self._index]\n",
    "                self._index += 1\n",
    "                return item\n"
   ]
  },
  {
   "cell_type": "markdown",
   "metadata": {},
   "source": [
    "## Testing the Polygon"
   ]
  },
  {
   "cell_type": "code",
   "execution_count": 139,
   "metadata": {},
   "outputs": [],
   "source": [
    "import math"
   ]
  },
  {
   "cell_type": "code",
   "execution_count": 140,
   "metadata": {},
   "outputs": [],
   "source": [
    "def test_polygon():\n",
    "    abs_tol = 0.001\n",
    "    rel_tol = 0.001\n",
    "    \n",
    "    try:\n",
    "        p = Polygon(2, 10)\n",
    "        assert False, ('Creating a Polygon with 2 sides: '\n",
    "                       ' Exception expected, not received')\n",
    "    except ValueError:\n",
    "        pass\n",
    "                       \n",
    "    n = 3\n",
    "    R = 1\n",
    "    p = Polygon(n, R)\n",
    "    assert str(p) == 'Polygon(n=3, R=1)', f'actual: {str(p)}'\n",
    "    assert p.count_vertices == n, (f'actual: {p.count_vertices},'\n",
    "                                   f' expected: {n}')\n",
    "    assert p.count_edges == n, f'actual: {p.count_edges}, expected: {n}'\n",
    "    assert p.circumradius == R, f'actual: {p.circumradius}, expected: {n}'\n",
    "    assert p.interior_angle == 60, (f'actual: {p.interior_angle},'\n",
    "                                    ' expected: 60')\n",
    "    n = 4\n",
    "    R = 1\n",
    "    p = Polygon(n, R)\n",
    "    assert p.interior_angle == 90, (f'actual: {p.interior_angle}, '\n",
    "                                    ' expected: 90')\n",
    "    assert math.isclose(p.area, 2, \n",
    "                        rel_tol=abs_tol, \n",
    "                        abs_tol=abs_tol), (f'actual: {p.area},'\n",
    "                                           ' expected: 2.0')\n",
    "    \n",
    "    assert math.isclose(p.side_length, math.sqrt(2),\n",
    "                       rel_tol=rel_tol,\n",
    "                       abs_tol=abs_tol), (f'actual: {p.side_length},'\n",
    "                                          f' expected: {math.sqrt(2)}')\n",
    "    \n",
    "    assert math.isclose(p.perimeter, 4 * math.sqrt(2),\n",
    "                       rel_tol=rel_tol,\n",
    "                       abs_tol=abs_tol), (f'actual: {p.perimeter},'\n",
    "                                          f' expected: {4 * math.sqrt(2)}')\n",
    "    \n",
    "    assert math.isclose(p.apothem, 0.707,\n",
    "                       rel_tol=rel_tol,\n",
    "                       abs_tol=abs_tol), (f'actual: {p.perimeter},'\n",
    "                                          ' expected: 0.707')\n",
    "    p = Polygon(6, 2)\n",
    "    assert math.isclose(p.side_length, 2,\n",
    "                        rel_tol=rel_tol, abs_tol=abs_tol)\n",
    "    assert math.isclose(p.apothem, 1.73205,\n",
    "                        rel_tol=rel_tol, abs_tol=abs_tol)\n",
    "    assert math.isclose(p.area, 10.3923,\n",
    "                        rel_tol=rel_tol, abs_tol=abs_tol)\n",
    "    assert math.isclose(p.perimeter, 12,\n",
    "                        rel_tol=rel_tol, abs_tol=abs_tol)\n",
    "    assert math.isclose(p.interior_angle, 120,\n",
    "                        rel_tol=rel_tol, abs_tol=abs_tol)\n",
    "    \n",
    "    p = Polygon(12, 3)\n",
    "    assert math.isclose(p.side_length, 1.55291,\n",
    "                        rel_tol=rel_tol, abs_tol=abs_tol)\n",
    "    assert math.isclose(p.apothem, 2.89778,\n",
    "                        rel_tol=rel_tol, abs_tol=abs_tol)\n",
    "    assert math.isclose(p.area, 27,\n",
    "                        rel_tol=rel_tol, abs_tol=abs_tol)\n",
    "    assert math.isclose(p.perimeter, 18.635,\n",
    "                        rel_tol=rel_tol, abs_tol=abs_tol)\n",
    "    assert math.isclose(p.interior_angle, 150,\n",
    "                        rel_tol=rel_tol, abs_tol=abs_tol)\n",
    "    \n",
    "    p1 = Polygon(3, 10)\n",
    "    p2 = Polygon(10, 10)\n",
    "    p3 = Polygon(15, 10)\n",
    "    p4 = Polygon(15, 100)\n",
    "    p5 = Polygon(15, 100)\n",
    "    \n",
    "    assert p2 > p1\n",
    "    assert p2 < p3\n",
    "    assert p3 != p4\n",
    "    assert p1 != p4\n",
    "    assert p4 == p5"
   ]
  },
  {
   "cell_type": "code",
   "execution_count": 141,
   "metadata": {},
   "outputs": [],
   "source": [
    "test_polygon()"
   ]
  },
  {
   "cell_type": "markdown",
   "metadata": {},
   "source": [
    "## Testing Polygon Sequence - Iterator and Iterable"
   ]
  },
  {
   "cell_type": "code",
   "execution_count": 142,
   "metadata": {},
   "outputs": [],
   "source": [
    "## Initializing an Polygon sequence object\n",
    "P1 = Polygons(5,4)"
   ]
  },
  {
   "cell_type": "code",
   "execution_count": 143,
   "metadata": {},
   "outputs": [
    {
     "name": "stdout",
     "output_type": "stream",
     "text": [
      "Inside Polygon sequence iter\n",
      "Inside Polygon Iterator next\n",
      "Inside Polygon Iterator next\n",
      "Inside Polygon Iterator next\n",
      "Inside Polygon Iterator next\n"
     ]
    },
    {
     "data": {
      "text/plain": [
       "[(0, Polygon(n=3, R=4)), (1, Polygon(n=4, R=4)), (2, Polygon(n=5, R=4))]"
      ]
     },
     "execution_count": 143,
     "metadata": {},
     "output_type": "execute_result"
    }
   ],
   "source": [
    "# Enumerating the Object P1\n",
    "list(enumerate(P1))"
   ]
  },
  {
   "cell_type": "code",
   "execution_count": 144,
   "metadata": {},
   "outputs": [
    {
     "name": "stdout",
     "output_type": "stream",
     "text": [
      "Inside Polygon sequence iter\n"
     ]
    }
   ],
   "source": [
    "## Initializing an Iterator of Polygon Object. iter_p1 is only an iterable as it cannot be used once it gets exhausted\n",
    "iter_p1 = iter(P1)"
   ]
  },
  {
   "cell_type": "code",
   "execution_count": 145,
   "metadata": {},
   "outputs": [
    {
     "name": "stdout",
     "output_type": "stream",
     "text": [
      "Inside Polygon Iterator iter\n",
      "Inside Polygon Iterator next\n",
      "Polygon(n=3, R=4)\n",
      "Inside Polygon Iterator next\n",
      "Polygon(n=4, R=4)\n",
      "Inside Polygon Iterator next\n",
      "Polygon(n=5, R=4)\n",
      "Inside Polygon Iterator next\n"
     ]
    }
   ],
   "source": [
    "## Using the iterator in a for loop\n",
    "for poly in iter_p1:\n",
    "    print(poly)"
   ]
  },
  {
   "cell_type": "code",
   "execution_count": 146,
   "metadata": {},
   "outputs": [
    {
     "name": "stdout",
     "output_type": "stream",
     "text": [
      "Inside Polygon sequence iter\n",
      "Inside Polygon Iterator next\n",
      "Polygon(n=3, R=4)\n",
      "Inside Polygon Iterator next\n",
      "Polygon(n=4, R=4)\n",
      "Inside Polygon Iterator next\n",
      "Polygon(n=5, R=4)\n",
      "Inside Polygon Iterator next\n"
     ]
    },
    {
     "ename": "StopIteration",
     "evalue": "",
     "output_type": "error",
     "traceback": [
      "\u001b[1;31m---------------------------------------------------------------------------\u001b[0m",
      "\u001b[1;31mStopIteration\u001b[0m                             Traceback (most recent call last)",
      "\u001b[1;32m<ipython-input-146-bf2f66c21673>\u001b[0m in \u001b[0;36m<module>\u001b[1;34m\u001b[0m\n\u001b[0;32m      4\u001b[0m \u001b[0mprint\u001b[0m\u001b[1;33m(\u001b[0m\u001b[0mnext\u001b[0m\u001b[1;33m(\u001b[0m\u001b[0miter_p\u001b[0m\u001b[1;33m)\u001b[0m\u001b[1;33m)\u001b[0m\u001b[1;33m\u001b[0m\u001b[1;33m\u001b[0m\u001b[0m\n\u001b[0;32m      5\u001b[0m \u001b[0mprint\u001b[0m\u001b[1;33m(\u001b[0m\u001b[0mnext\u001b[0m\u001b[1;33m(\u001b[0m\u001b[0miter_p\u001b[0m\u001b[1;33m)\u001b[0m\u001b[1;33m)\u001b[0m\u001b[1;33m\u001b[0m\u001b[1;33m\u001b[0m\u001b[0m\n\u001b[1;32m----> 6\u001b[1;33m \u001b[0mprint\u001b[0m\u001b[1;33m(\u001b[0m\u001b[0mnext\u001b[0m\u001b[1;33m(\u001b[0m\u001b[0miter_p\u001b[0m\u001b[1;33m)\u001b[0m\u001b[1;33m)\u001b[0m\u001b[1;33m\u001b[0m\u001b[1;33m\u001b[0m\u001b[0m\n\u001b[0m",
      "\u001b[1;32m<ipython-input-138-f706cb806b6b>\u001b[0m in \u001b[0;36m__next__\u001b[1;34m(self)\u001b[0m\n\u001b[0;32m     62\u001b[0m             \u001b[0mprint\u001b[0m\u001b[1;33m(\u001b[0m\u001b[1;34m\"Inside Polygon Iterator next\"\u001b[0m\u001b[1;33m)\u001b[0m\u001b[1;33m\u001b[0m\u001b[1;33m\u001b[0m\u001b[0m\n\u001b[0;32m     63\u001b[0m             \u001b[1;32mif\u001b[0m \u001b[0mself\u001b[0m\u001b[1;33m.\u001b[0m\u001b[0m_index\u001b[0m \u001b[1;33m>=\u001b[0m \u001b[0mlen\u001b[0m\u001b[1;33m(\u001b[0m\u001b[0mself\u001b[0m\u001b[1;33m.\u001b[0m\u001b[0m_polyobj\u001b[0m\u001b[1;33m)\u001b[0m\u001b[1;33m:\u001b[0m\u001b[1;33m\u001b[0m\u001b[1;33m\u001b[0m\u001b[0m\n\u001b[1;32m---> 64\u001b[1;33m                 \u001b[1;32mraise\u001b[0m \u001b[0mStopIteration\u001b[0m\u001b[1;33m\u001b[0m\u001b[1;33m\u001b[0m\u001b[0m\n\u001b[0m\u001b[0;32m     65\u001b[0m             \u001b[1;32melse\u001b[0m\u001b[1;33m:\u001b[0m\u001b[1;33m\u001b[0m\u001b[1;33m\u001b[0m\u001b[0m\n\u001b[0;32m     66\u001b[0m                 \u001b[0mitem\u001b[0m \u001b[1;33m=\u001b[0m \u001b[0mself\u001b[0m\u001b[1;33m.\u001b[0m\u001b[0m_polyobj\u001b[0m\u001b[1;33m.\u001b[0m\u001b[0m_polygons\u001b[0m\u001b[1;33m[\u001b[0m\u001b[0mself\u001b[0m\u001b[1;33m.\u001b[0m\u001b[0m_index\u001b[0m\u001b[1;33m]\u001b[0m\u001b[1;33m\u001b[0m\u001b[1;33m\u001b[0m\u001b[0m\n",
      "\u001b[1;31mStopIteration\u001b[0m: "
     ]
    }
   ],
   "source": [
    "## Checking whether iter_p can be used once exhausted and StopIteration will be called\n",
    "iter_p = iter(P1)\n",
    "print(next(iter_p))\n",
    "print(next(iter_p))\n",
    "print(next(iter_p))\n",
    "print(next(iter_p))"
   ]
  },
  {
   "cell_type": "code",
   "execution_count": 147,
   "metadata": {},
   "outputs": [
    {
     "name": "stdout",
     "output_type": "stream",
     "text": [
      "Inside Polygon sequence iter\n",
      "Inside Polygon Iterator next\n",
      "Polygon(n=3, R=4)\n",
      "Inside Polygon Iterator next\n",
      "Polygon(n=4, R=4)\n",
      "Inside Polygon Iterator next\n",
      "Polygon(n=5, R=4)\n",
      "Inside Polygon Iterator next\n",
      "\n",
      "--------------------Second Loop -------------------------\n",
      "-----P1 is an unending source hence also an Iterable-----\n",
      "\n",
      "Inside Polygon sequence iter\n",
      "Inside Polygon Iterator next\n",
      "Polygon(n=3, R=4)\n",
      "Inside Polygon Iterator next\n",
      "Polygon(n=4, R=4)\n",
      "Inside Polygon Iterator next\n",
      "Polygon(n=5, R=4)\n",
      "Inside Polygon Iterator next\n"
     ]
    }
   ],
   "source": [
    "# Printing the elements in the polygon sequence using P1 as an Iterator. P1 is also an iterable as it acts as an unending source\n",
    "for poly in P1:\n",
    "    print(poly)\n",
    "\n",
    "print (\"\\n--------------------Second Loop -------------------------\\n-----P1 is an unending source hence also an Iterable-----\\n\")    \n",
    "\n",
    "for poly1 in P1:\n",
    "    print(poly1)"
   ]
  },
  {
   "cell_type": "code",
   "execution_count": 136,
   "metadata": {},
   "outputs": [
    {
     "data": {
      "text/plain": [
       "Polygon(n=4, R=4)"
      ]
     },
     "execution_count": 136,
     "metadata": {},
     "output_type": "execute_result"
    }
   ],
   "source": [
    "P1[1]"
   ]
  },
  {
   "cell_type": "code",
   "execution_count": 137,
   "metadata": {},
   "outputs": [
    {
     "data": {
      "text/plain": [
       "[Polygon(n=3, R=4), Polygon(n=4, R=4), Polygon(n=5, R=4)]"
      ]
     },
     "execution_count": 137,
     "metadata": {},
     "output_type": "execute_result"
    }
   ],
   "source": [
    "P1[0:5]"
   ]
  },
  {
   "cell_type": "code",
   "execution_count": null,
   "metadata": {},
   "outputs": [],
   "source": []
  }
 ],
 "metadata": {
  "kernelspec": {
   "display_name": "Python 3",
   "language": "python",
   "name": "python3"
  },
  "language_info": {
   "codemirror_mode": {
    "name": "ipython",
    "version": 3
   },
   "file_extension": ".py",
   "mimetype": "text/x-python",
   "name": "python",
   "nbconvert_exporter": "python",
   "pygments_lexer": "ipython3",
   "version": "3.8.5"
  }
 },
 "nbformat": 4,
 "nbformat_minor": 4
}
